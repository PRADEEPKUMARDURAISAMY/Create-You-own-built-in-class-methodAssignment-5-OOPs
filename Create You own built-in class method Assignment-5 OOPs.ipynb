{
 "cells": [
  {
   "cell_type": "code",
   "execution_count": 1,
   "id": "5d3f5d5a",
   "metadata": {},
   "outputs": [
    {
     "name": "stdout",
     "output_type": "stream",
     "text": [
      "enter tne value10\n",
      "enter the power value2\n",
      "100\n"
     ]
    }
   ],
   "source": [
    "class pow:\n",
    "    def __init__(self):\n",
    "        self.val = int(input(\"enter tne value\"))\n",
    "        self.mul = int(input(\"enter the power value\"))               \n",
    "    def power(self):\n",
    "        return self.val ** self.mul\n",
    "check = pow()\n",
    "print(check.power())\n"
   ]
  },
  {
   "cell_type": "code",
   "execution_count": null,
   "id": "73e197b6",
   "metadata": {},
   "outputs": [],
   "source": []
  }
 ],
 "metadata": {
  "kernelspec": {
   "display_name": "Python 3 (ipykernel)",
   "language": "python",
   "name": "python3"
  },
  "language_info": {
   "codemirror_mode": {
    "name": "ipython",
    "version": 3
   },
   "file_extension": ".py",
   "mimetype": "text/x-python",
   "name": "python",
   "nbconvert_exporter": "python",
   "pygments_lexer": "ipython3",
   "version": "3.10.2"
  }
 },
 "nbformat": 4,
 "nbformat_minor": 5
}
